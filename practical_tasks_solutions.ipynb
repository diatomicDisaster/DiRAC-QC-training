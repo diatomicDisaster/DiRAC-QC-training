{
  "cells": [
    {
      "cell_type": "markdown",
      "metadata": {
        "id": "rRznhEchmEFS"
      },
      "source": [
        "$\\newcommand{\\ket}[1]{\\left|{#1}\\right\\rangle}$\n",
        "$\\newcommand{\\bra}[1]{\\left\\langle{#1}\\right|}$\n",
        "$\\newcommand{\\expec}[3]{\\left\\langle{#1}\\left|{#2}\\right|{#3}\\right\\rangle}$\n",
        "$\\newcommand{\\braket}[2]{\\left\\langle{#1}|{#2}\\right\\rangle}$\n",
        "$\\newcommand{\\op}[2]{\\left|{#1}\\right\\rangle\\left\\langle{#2}\\right|}$\n",
        "$\\newcommand{\\X}{\\mathrm{X}}$\n",
        "$\\newcommand{\\Y}{\\mathrm{Y}}$\n",
        "$\\newcommand{\\Z}{\\mathrm{Z}}$\n",
        "$\\newcommand{\\H}{\\mathrm{H}}$\n",
        "$\\newcommand{\\CX}{\\mathrm{CNOT}}$\n",
        "$\\newcommand{\\RX}{\\mathrm{RX}}$\n",
        "$\\newcommand{\\RY}{\\mathrm{RY}}$\n",
        "$\\newcommand{\\RZ}{\\mathrm{RZ}}$\n",
        "\n",
        "# Task 1: Basis Encoding and Amplitude Amplification\n",
        "\n",
        "Let's see an example of how basis encoding can be applied to an example problem. We'll also introduce a generalisation of Grover's algorithm to the case where there are multiple solutions to a problem.\n",
        "\n",
        "Imagine you are invited into the lab of your chemist friend to see a new experiment they've developed. They lay out a few chemical samples on the desk: water, sodium, iron, oxygen, fluorine, hydrogen, uranium and lead. Suddenly your friend is called away to an explosive emergency in the undergraduate teaching labs. \n",
        "\n",
        "They throw on their protective goggles and ask you to put away the samples into two boxes on the shelf. As they run frantically out the door your chemist friend turns to you and says, \"check the warning labels and no matter what - don't mix the wrong samples together in one box\".\n",
        "\n",
        "The labels on the samples give you the following information:\n",
        "\n",
        "- **Sodium**: do not store with *water*\n",
        "- **Iron**: do not store with *water*\n",
        "- **Fluorine**: do not store with *sodium* or *hydrogen*\n",
        "- **Hydrogen**: do not store with *oxygen*\n",
        "- **Uranium**: must be stored with *water* or *lead*\n",
        "- **Lead**: do nost store with *sodium*\n",
        "\n",
        "![image](https://drive.google.com/uc?export=view&id=1x2j8Og-ObHIvvu1tUhCnwgvT6EABHfOw)\n",
        "\n",
        "As a physicist, you decide that checking the combinations by hand is too time-consuming, and so you decide instead to design a quantum algorithm that can find a combination that satisfies these criteria, and solve the problem for you.\n",
        "\n",
        "To solve this problem we will apply Grover's algorithm, recalling the algorithm:\n",
        "\n",
        "1. First encode all $N$ possible solutions in the computational basis states, and create an equal superposition $\\ket{s}$. \n",
        "2. Apply the oracle $U_w$ to invert the phase of all $M$ correct solutions\n",
        "3. Apply a reflection $U_s$ about the starting vector $\\ket{s}$\n",
        "4. Repeat application of $U_sU_w$ approximately $\\sqrt{N/M}$ times in order to amplify the correct solutions and then perform a measurement\n",
        "\n",
        "### __Encoding the Problem__\n",
        "\n",
        "The encoding scheme is straightforward: we create a register of 5 qubits, each representing one of the samples. The qubit in the 1 state represents the sample being placed in Box A, and the qubit in the 0 state represents the sample being placed in Box B. \n",
        "\n",
        "For example, a trial solution with water, sodium, oxygen and uranium in box A, and iron, fluorine, hydrogen and lead in box B would be represented by the 8-qubit computational basis state:\n",
        "\n",
        "$$\n",
        "\\ket{11010010}\n",
        "$$\n",
        "\n",
        "The hard part is designing the oracle that inverts only the correct solutions.\n",
        "\n",
        "### __Quantum Oracle__\n",
        "\n",
        "We construct the oracle by formulating the problem in terms of a set of logical expressions that evaluate to true if the proposed solution is correct, and to false if it is incorrect.\n",
        "\n",
        "The result from evaluating each expression is stored in an ancillary qubit, with the state $\\ket{1}$ if the expression is true, or the state $\\ket{0}$ if the expression is false. The oracle then determines whether the input is a solution by checking that each ancillary qubit is in the state $\\ket{1}$ (i.e true) and storing the final result in an additional ancillary qubit.\n",
        "\n",
        "The last step of creating the oracle is to apply a technique known as *phase kickback*, which applies the eigenvalue of a measurement to the control qubits. In this case, if the final ancillary qubit evaluates to $\\ket{1}$ then the result of a $Z$ measurement is $-1$ which inverts the phase of the control qubits.\n",
        "\n",
        "Below is an example of an oracle that checks whether the first two conditions are satisfied for box A.\n"
      ]
    },
    {
      "cell_type": "code",
      "execution_count": null,
      "metadata": {
        "id": "2Z2WcgrzwHFn"
      },
      "outputs": [],
      "source": [
        "from qat.lang.AQASM import QRoutine, CCNOT, Program, CNOT, H, Z\n",
        "from qat.qpus import get_default_qpu\n",
        "\n",
        "def oracle():\n",
        "    rout = QRoutine()\n",
        "    qbits = rout.new_wires(3)\n",
        "    qanc = rout.new_wires(3) #ancillary qubits\n",
        "    with rout.compute():\n",
        "      CNOT(qbits[0], qanc[0])\n",
        "      CNOT(qbits[1], qanc[0])\n",
        "      CNOT(qbits[0], qanc[1])\n",
        "      CNOT(qbits[2], qanc[1])\n",
        "      CCNOT(qanc[0], qanc[1], qanc[2])\n",
        "    Z(qanc[2])\n",
        "    rout.uncompute() #uncompute provides the phase kickback\n",
        "    return rout"
      ]
    },
    {
      "cell_type": "markdown",
      "metadata": {
        "id": "J1M8RjBDqPuu"
      },
      "source": [
        "Now let's implement this as part of the amplitude amplification algorithm."
      ]
    },
    {
      "cell_type": "code",
      "execution_count": null,
      "metadata": {
        "id": "MXt3n9-4xd0H"
      },
      "outputs": [],
      "source": [
        "prog = Program()\n",
        "qbits = prog.qalloc(6)\n",
        "\n",
        "for qbit in qbits[:3]: #create the equal superposition\n",
        "  H(qbit)\n",
        "\n",
        "prog.apply(oracle(), qbits) #apply the oracle\n",
        "\n",
        "#check how application of the oracle has changed the state of the qubit register\n",
        "circ = prog.to_circ()\n",
        "result = get_default_qpu().submit(circ.to_job())\n",
        "for s, sample in enumerate(result):\n",
        "    print(f\"{sample.amplitude:<24} {sample.state}\")"
      ]
    },
    {
      "cell_type": "markdown",
      "metadata": {
        "id": "FRjV3eFnrq_Y"
      },
      "source": [
        "The two solution states are those with negative phases, i.e\n",
        "\n",
        "\\begin{align}\n",
        "  \\ket{011} &\\implies \\text{water in box A, sodium and iron in box B}\\\\\n",
        "  \\ket{100} &\\implies \\text{water in box B, sodium and iron in box A}\n",
        "\\end{align}\n",
        "\n",
        "Lets look at the circuit we've just implemented"
      ]
    },
    {
      "cell_type": "code",
      "execution_count": null,
      "metadata": {
        "id": "qVmzjaY-F9Et"
      },
      "outputs": [],
      "source": [
        "%qatdisplay circ"
      ]
    },
    {
      "cell_type": "markdown",
      "metadata": {
        "id": "UAjNqKwC0T9s"
      },
      "source": [
        "In the example above we used two CNOT gates to create each XOR condition. Thankfully myQLM provides tools that mean we don't have to determine which combinations of gates evaluate a boolean expression, which is a formidable challenge for large problems with lots of conditions.\n",
        "\n",
        "With myQLM we can declare the qubit register as a boolean array and create these expressions using the native Python bitwise operators:\n",
        "\n",
        "$$\n",
        "\\begin{matrix}\n",
        "\\text{Operator} & \\text{Name} \\\\\n",
        "\\& & \\text{AND} \\\\\n",
        "| & \\text{OR} \\\\\n",
        "\\hat{} & \\text{XOR} \\\\\n",
        "\\tilde{} & \\text{NOT}\n",
        "\\end{matrix}\n",
        "$$\n",
        "\n",
        "Doing this also allows us to apply the phase kickback using a simple `.phase()` method and do away with the ancillary qubits, which are assigned automatically."
      ]
    },
    {
      "cell_type": "code",
      "execution_count": null,
      "metadata": {
        "id": "utfWRsLCuGNb"
      },
      "outputs": [],
      "source": [
        "from qat.lang.AQASM.qbool import QBoolArray\n",
        "\n",
        "def oracle():\n",
        "    rout = QRoutine()\n",
        "    qbools = rout.new_wires(3, QBoolArray) #tell myQLM to treat register as boolean values\n",
        "    expr1 = qbools[0] ^ qbools[1] #water xor sodium\n",
        "    expr2 = qbools[0] ^ qbools[2] #water xor iron\n",
        "    expr = expr1 & expr2 #check each expression\n",
        "    expr.phase()\n",
        "    return rout"
      ]
    },
    {
      "cell_type": "markdown",
      "metadata": {
        "id": "UMof9qTJ2Ebn"
      },
      "source": [
        "The second step in the amplitude amplification is the so-called diffusion operator, which reflects the qubit state through the original superposition vector\n",
        "\n",
        "$$\n",
        "U_s = 2\\op{s}{s} - 1\n",
        "$$\n",
        "\n",
        "This gate is straightforward to construct in matrix form using the above definition, and myQLM allows us to construct a gate from a function that returns a matrix using the `AbstractGate` class. "
      ]
    },
    {
      "cell_type": "code",
      "execution_count": null,
      "metadata": {
        "id": "o1CrErfB28sj"
      },
      "outputs": [],
      "source": [
        "from qat.lang.AQASM import AbstractGate\n",
        "import numpy as np\n",
        "\n",
        "def s_flip(nqbits):\n",
        "    dimen = 2**nqbits\n",
        "    s_vec = np.ones(dimen)/np.sqrt(dimen)\n",
        "    s_mat = np.outer(s_vec, s_vec)\n",
        "    s_flip = 2*s_mat - np.identity(dimen)\n",
        "    return s_flip\n",
        "\n",
        "Sflip = AbstractGate(\"S_flip\", [int], matrix_generator=s_flip)"
      ]
    },
    {
      "cell_type": "markdown",
      "metadata": {
        "id": "nSD_V_gmMRl2"
      },
      "source": [
        "Putting everything together we can apply the complete amplitude amplification algorithm. In this case the database is very small and a single application of the oracle and diffusion operators, $U_sU_w$, is able to rotate the state vector exactly onto the superposition of correct solutions $\\ket{w}$.\n",
        "\n",
        "**Construct a quantum program below that applies a single iteration of Grover's algorithm, using the Oracle function and the diffusion function defined above**"
      ]
    },
    {
      "cell_type": "code",
      "execution_count": null,
      "metadata": {
        "id": "d3-Amp3WGD5a"
      },
      "outputs": [],
      "source": [
        "################################\n",
        "### Create your program here ###\n",
        "################################\n",
        "\n",
        "prog = Program()\n",
        "qbools = prog.qalloc(3, QBoolArray)\n",
        "\n",
        "for qbit in qbools:\n",
        "    H(qbit)\n",
        "\n",
        "for i in range(1): #a single repetition of the oracle + diffusion is sufficient\n",
        "  prog.apply(oracle(), qbools)\n",
        "  prog.apply(Sflip(3), qbools)\n",
        "\n",
        "circ = prog.to_circ()\n",
        "job = circ.to_job(nbshots=0)\n",
        "\n",
        "from qat.qpus import get_default_qpu\n",
        "\n",
        "result = get_default_qpu().submit(job)\n",
        "for s, sample in enumerate(result):\n",
        "  print(f\"{s}: {sample.state} {sample.amplitude}\")"
      ]
    },
    {
      "cell_type": "markdown",
      "metadata": {
        "id": "pYKN39EFuy7h"
      },
      "source": [
        "We mentioned above that the oracle and diffusion operators need to be repeated approximately $\\sqrt{N/M}$ in order to measure a correct solution with high probability. Often the number of correct solutions $M$ is not known in advance, and hence the number of repetitions required is not obvious. \n",
        "\n",
        "In this case we can repeatedly run the algorithm with an increasing number of repetitions $1, 2, 3, 4, ...$ until a correct solution is found. The total number of iterations taken is still $O(\\sqrt{N/M})$ and a quadratic speed-up over the best classical case is still achieved, up to a constant factor.\n",
        "\n",
        "**Try adapting the oracle function given previously for the partial problem and extend the circuit to 8 qubits in order to solve the complete boxing problem with all the conditions given at the top of the section.**\n"
      ]
    },
    {
      "cell_type": "code",
      "execution_count": null,
      "metadata": {
        "id": "2TBuTKaNMRl4"
      },
      "outputs": [],
      "source": [
        "############################################################\n",
        "### Create your oracle function and quantum program here ###\n",
        "############################################################\n",
        "\n",
        "def oracle():\n",
        "    rout = QRoutine()\n",
        "    qbools = rout.new_wires(8, QBoolArray)\n",
        "    expr1 = qbools[0] ^ qbools[1] #water or sodium\n",
        "    expr2 = qbools[0] ^ qbools[2] #water or iron\n",
        "    expr3 = qbools[1] ^ qbools[4] #fluorine or sodium\n",
        "    expr4 = qbools[4] ^ qbools[5] #fluorine or hydrogen\n",
        "    expr5 = qbools[5] ^ qbools[3] #hydrogen or oxygen\n",
        "    expr6 = qbools[6] & (qbools[7] | qbools[0]) #uranium and lead or water\n",
        "    expr7 = qbools[7] ^ qbools[4] #lead or fluorine\n",
        "    expr = expr1 & expr2 & expr3 & expr4 & expr5 & expr6 & expr7\n",
        "    expr.phase()\n",
        "    return rout\n",
        "\n",
        "reps=11\n",
        "prog = Program()\n",
        "qbools = prog.qalloc(8, QBoolArray)\n",
        "\n",
        "for qbit in qbools:\n",
        "    H(qbit)\n",
        "for i in range(reps):\n",
        "    prog.apply(oracle(), qbools)\n",
        "    prog.apply(Sflip(8), qbools)\n",
        "\n",
        "circ = prog.to_circ()\n",
        "#circ.display()\n",
        "job = circ.to_job(nbshots=0)\n",
        "\n",
        "from qat.qpus import get_default_qpu\n",
        "\n",
        "result = get_default_qpu().submit(job)\n",
        "for s, sample in enumerate(result):\n",
        "    if abs(sample.amplitude) > 0.5:\n",
        "        print(f\"The state: {sample.state}\\n  has amplitude {sample.amplitude}\")"
      ]
    },
    {
      "cell_type": "markdown",
      "metadata": {
        "id": "mFEHnFkf-G1d"
      },
      "source": [
        "# Task 2: Angle Encoding and Quantum Neural Networks\n",
        "\n",
        "Machine learning problems can generally be cast in terms of vector-matrix products and a series of linear algebraic operations. Quantum circuits act as very efficient simulators for linear algebra and can perform linear algebraic calculations with far fewer operations.\n",
        "\n",
        "In this example we'll create a QNN that learns to classify a dataset describing attributes of stars into pulsars and non-pulsars. The data in question is the HTRU2 dataset, which contains almost 18,000 entries. Each entry in the database has a 'label' with the value 0 or 1 depending on whether the entry is a pulsar or not, and is described by 8 features:\n",
        "\n",
        "1. Mean of the integrated profile.\n",
        "2. Standard deviation of the integrated profile.\n",
        "3. Excess kurtosis of the integrated profile.\n",
        "4. Skewness of the integrated profile.\n",
        "5. Mean of the DM-SNR curve.\n",
        "6. Standard deviation of the DM-SNR curve.\n",
        "7. Excess kurtosis of the DM-SNR curve.\n",
        "8. Skewness of the DM-SNR curve.\n",
        "\n",
        "__Outline of the QNN__\n",
        "\n",
        "The basic format of a quantum neural network interlaces feature encoding layers with trainable rotations. \n",
        "\n",
        "In the figure below we encode $n$ features via $R_z$ rotations. Each feature encoding is followed by gate(s) parameterised by a vector of trainable weights $\\vec{w}^{(i)}$. The QNN repeats the entire feature encoding block $N$ times to improve the expressibility of the model.\n",
        "\n",
        "![image](https://drive.google.com/uc?export=view&id=1_J22wva1AcJWdAvlu4cFf0UZIcODHN1x)\n",
        "\n",
        "The aim is to construct a variational quantum circuit that rotates the state vector towards the $\\ket{1}$ state if the features correspond to a pulsar, and toward the $\\ket{0}$ state if the features do not correspond to a pulsar.\n",
        "\n",
        "To make a prediction we run the circuit several times and measure the qubit to obtain the probability of measuring the state $\\ket{1}$. We interpret this result as the probability of a data point corresponding to a pulsar.\n",
        "\n",
        "$$\n",
        "p_1 = \\frac{\\langle Z \\rangle + 1}{2} = \\left\\langle \\frac{Z + 1}{2} \\right\\rangle\n",
        "$$\n",
        "\n",
        "__Optimizing the Circuit__\n",
        "\n",
        "The circuit 'learns' to correctly identify pulsars by optimizing the parameters in the trainable rotation layers. This optimization is performed via classical methods, giving rise to a quantum-classical hybrid algorithm.\n",
        "\n",
        "First we pass data points with known labels through the circuit and compute a loss function on the output. The value of the loss function is larger the further away from the correct label the prediction is, and zero for a correct prediction.\n",
        "\n",
        "Then we calculate the gradient of the loss function with respect to each of the trainable weights and apply classical gradient descent methods to update the trainable weights gradually optimize the circuit to reduce the loss."
      ]
    },
    {
      "cell_type": "markdown",
      "metadata": {
        "id": "47DILw5kHjyJ"
      },
      "source": [
        "## The Variational Quantum Circuit\n",
        "\n",
        "**Create a function that creates a QNN circuit like the one shown in the figure above with a single layer (N=1). The function should accept two arguments: a vector of weights to parameterise the trainable layers, and a vector of 8 features describing an entry in the HTRU2 database, and should return the expectation value $\\langle P_1 \\rangle$.** \n",
        "\n",
        "- Start by instantiating a program with a single qubit register and preparing the qubit in an equal superposition using a Hadamard gate.\n",
        "- Next add an initial 'zeroth' trainable rotation layer with a parameterised gate of your choice.\n",
        "- Then add feature encoding blocks consisting of $R_z$ angle encoding rotations followed by trainable rotations in order to encode each of the 8 features.\n",
        "- Convert the program to a job with an observable measurement corresponding to the probability of measuring $\\ket{1}$ and return the expectation value"
      ]
    },
    {
      "cell_type": "code",
      "execution_count": null,
      "metadata": {
        "id": "HrMYlr-o-GlE"
      },
      "outputs": [],
      "source": [
        "from qat.lang.AQASM import RZ, RX, RY\n",
        "from qat.core import Observable\n",
        "\n",
        "def init_weights(nlayers=1, ntrainablegates=1):\n",
        "    return np.random.uniform(low=-1., high=1., size=((nlayers*8+1)*ntrainablegates))\n",
        "\n",
        "def qnn_circuit(weights:np.ndarray, features:np.ndarray):\n",
        "    prog = Program()\n",
        "    qbits = prog.qalloc(1)\n",
        "    H(qbits[0])\n",
        "    RX(float(weights[0]))(qbits[0])\n",
        "    RY(float(weights[1]))(qbits[0])\n",
        "    for l in range(2):\n",
        "        for f in range(8):\n",
        "            ind = (l*n_features + f + 1)*n_trainables\n",
        "            RZ(features[f])(qbits[0])\n",
        "            RX(float(weights[ind]))(qbits[0])\n",
        "            RY(float(weights[ind+1]))(qbits[0])\n",
        "    job = prog.to_circ().to_job(observable=Observable(1, matrix=np.array([[0, 0],[0, 1]])))\n",
        "    expec = get_default_qpu().submit(job).value\n",
        "    return expec"
      ]
    },
    {
      "cell_type": "markdown",
      "metadata": {
        "id": "VmpGnThv9KmI"
      },
      "source": [
        "Below we initialise a random set of initial weights and pass a set of features to the `qnn_circuit` function to check it executes a valid circuit."
      ]
    },
    {
      "cell_type": "code",
      "execution_count": null,
      "metadata": {
        "id": "AkIOyhk68W8a"
      },
      "outputs": [],
      "source": [
        "import pandas as pd\n",
        "from sklearn import preprocessing\n",
        "from sklearn.model_selection import train_test_split\n",
        "\n",
        "def fetch_data_random_seed(n_samples, seed=0):\n",
        "    \"\"\"Helper function for pre-processing the data\"\"\"\n",
        "\n",
        "    dataset = pd.read_csv('HTRU2.csv')\n",
        "    \n",
        "    # Import non-pulsar data points\n",
        "    data0 = dataset[dataset[dataset.columns[8]] == 0]\n",
        "    data0 = data0.sample(n=n_samples, random_state=seed)\n",
        "    X0 = data0[data0.columns[0:8]].values\n",
        "    Y0 = data0[data0.columns[8]].values\n",
        "\n",
        "    # Import pulsar data points\n",
        "    data1 = dataset[dataset[dataset.columns[8]] == 1]\n",
        "    data1 = data1.sample(n=n_samples, random_state=seed)\n",
        "    X1 = data1[data1.columns[0:8]].values\n",
        "    Y1 = data1[data1.columns[8]].values\n",
        "\n",
        "    X = np.append(X0, X1, axis=0)\n",
        "    Y = np.append(Y0, Y1, axis=0)\n",
        "    # Normalise the data\n",
        "    min_max_scaler = preprocessing.MinMaxScaler(feature_range=(0, np.pi))\n",
        "    X = min_max_scaler.fit_transform(X)\n",
        "\n",
        "    # Separate the test and training datasets\n",
        "    train_X, validation_X, train_Y, validation_Y = train_test_split(X, Y, test_size=0.5, random_state=seed)\n",
        "\n",
        "    return train_X, validation_X, train_Y, validation_Y\n",
        "\n",
        "# Sample a single instance of the dataset\n",
        "train_X, validate_X, train_Y, validate_Y = fetch_data_random_seed(1)\n",
        "\n",
        "np.random.seed(0)\n",
        "\n",
        "print(\"Test expectation value: \", qnn_circuit(init_weights(), train_X[0]))"
      ]
    },
    {
      "cell_type": "markdown",
      "metadata": {
        "id": "zYhHdrzdFb2c"
      },
      "source": [
        "## Classical Optimization\n",
        "\n",
        "Next we need to create the classical part of the algorithm for training the quantum model. For this we need:\n",
        "\n",
        "1. A loss function $\\mathcal{L}(p_1, y)$ that compares the prediction $p_1$ to the data point's label, $y$\n",
        "2. The gradient of the loss function w.r.t each of the weights \n",
        "$$\n",
        "\\frac{\\partial \\mathcal{L}}{\\partial w_i} = \\frac{\\partial \\mathcal{L}}{\\partial p_1} \\frac{\\partial p_1}{\\partial w_i} \n",
        "$$\n",
        "3. A gradient descent method to update the weights and optimize the circuit\n",
        "\n",
        "__Loss Function__\n",
        "\n",
        "We'll use a so-called 'cross entropy' loss function:\n",
        "\n",
        "$$\n",
        "\\mathcal{L}(p_1, y) = -y \\log(p_1) - (1-y) \\log(1 - p_1)\n",
        "$$\n",
        "\n",
        "which has a simple analytical gradient:\n",
        "\n",
        "$$\n",
        "\\frac{\\partial \\mathcal{L}}{\\partial p_1} = \\frac{1 - y}{1 - p_1} - \\frac{y}{p_1}\n",
        "$$\n",
        "\n",
        "The gradient of the expectation value w.r.t the weights can be obtained by the [parameter-shift method](https://arxiv.org/pdf/2107.12390.pdf). \n",
        "This is a common and highly efficient method for obtaining the gradient of a quantum circuit with respect to each of its parameters, which expresses the gradient of an expectation value analytically in terms of a $\\pi/2$ shift in the rotation angle:\n",
        "\n",
        "$$\n",
        "\\frac{\\partial p_1(w_i)}{\\partial w_i} = p_1(w_i + \\pi/2) - p_1(w_i - \\pi/2)\n",
        "$$\n",
        "\n",
        "**Now create a function that accepts a set of weights and features as well as the class label for that set of features, and returns the loss and a vector of gradients with the same shape as the input gradient of weights.**"
      ]
    },
    {
      "cell_type": "code",
      "execution_count": null,
      "metadata": {
        "id": "kHIe55fO-Wk5"
      },
      "outputs": [],
      "source": [
        "## Solution divided into two functions for clarity\n",
        "\n",
        "def gradient(weights, features):\n",
        "    \"\"\"Vector gradient with respect to all weights in a model\"\"\"\n",
        "    gradients = np.zeros_like(weights)\n",
        "    for index in range(len(weights)):\n",
        "        shift = np.zeros_like(weights)\n",
        "        shift[index] = np.pi/2\n",
        "        gradient = .5 * (\n",
        "            qnn_circuit(weights + shift, features) \n",
        "            - qnn_circuit(weights - shift, features)\n",
        "        )\n",
        "        gradients[index] = gradient\n",
        "    return gradients\n",
        "\n",
        "def loss_and_grad(weights:np.ndarray, features:np.ndarray, label:int):\n",
        "    \"\"\"Calculate loss and gradient with respect to a set of weights for a given sample\"\"\"\n",
        "    expec = qnn_circuit(weights, features)\n",
        "    expec_grads = gradient(weights, features)\n",
        "\n",
        "    loss = -label*np.log(expec) - (1-label)*np.log(1-expec)\n",
        "    loss_grad = (1-label)/(1-expec) - label/expec\n",
        "\n",
        "    grads = loss_grad * expec_grads\n",
        "    return loss, grads"
      ]
    },
    {
      "cell_type": "markdown",
      "metadata": {
        "id": "pwhHDz6_f4gn"
      },
      "source": [
        "__The Optimizer__\n",
        "\n",
        "If you have experience with machine learning methods, the final step will be very familiar to you. There are many gradient descent methods, ranging from the simple Newton's gradient descent method to more advanced ones commonly used in machine learning applications such as the AdaGrad, Stochastic Gradient Descent, and Adam.\n",
        "\n",
        "These optimizers have been used with a high degree of success throughout classical machine learning applications, so rather than re-inventing the wheel, we'll borrow them directly from the `optax` library. An 'optimizer' in this context is essentially an algorithm for deciding how much to update the weights based on the value of the gradient w.r.t. that weight.\n",
        "\n",
        "We'll proceed with an optimizer known as an [Adam optimizer](https://arxiv.org/abs/1412.6980), which implements a type of batch gradient descent - where the loss and gradients are averaged over a batch of training samples to counteract the stochasticity of the dataset. The optimizer updates the weights according to an internal algorithm and a set of hyperparameters\n",
        "\n",
        "First we create a function that iterates over all the samples in a batch and calculates the average loss and gradients."
      ]
    },
    {
      "cell_type": "code",
      "execution_count": null,
      "metadata": {
        "id": "197DlVO2MRl7"
      },
      "outputs": [],
      "source": [
        "def step(weights, batch):\n",
        "    \"\"\"Perform a step of the optimizer by applying gradients across a batch of samples\"\"\"\n",
        "    batch_loss = 0\n",
        "    batch_grad = np.zeros_like(weights)\n",
        "    # Calculate average loss and gradient over data samples in the batch\n",
        "    for (features, label) in batch:\n",
        "        loss, grad = loss_and_grad(weights, features, label)\n",
        "        batch_loss += loss/len(batch)\n",
        "        batch_grad += grad/len(batch)\n",
        "    return batch_loss, batch_grad"
      ]
    },
    {
      "cell_type": "markdown",
      "metadata": {
        "id": "1rXCIPt3MRl7"
      },
      "source": [
        "Now we can initialise an optimizer, and iterate over a fixed number of epochs, applying updates to the weights after each epoch based on the average gradients."
      ]
    },
    {
      "cell_type": "code",
      "execution_count": null,
      "metadata": {
        "id": "Wehrn2NNemU8"
      },
      "outputs": [],
      "source": [
        "from optax import adam, apply_updates\n",
        "\n",
        "def train(weights, data, num_epochs):\n",
        "    batch = list(zip(*data))\n",
        "    optimizer = adam(learning_rate=1e-1)\n",
        "    opt_state = optimizer.init(weights)\n",
        "    for i in range(num_epochs):\n",
        "        batch_loss, batch_grad = step(weights, batch)\n",
        "        # Update the array of weights using the Adam optimizer\n",
        "        updates, opt_state = optimizer.update(batch_grad, opt_state, weights)\n",
        "        weights = apply_updates(weights, updates)\n",
        "        yield weights, batch_loss"
      ]
    },
    {
      "cell_type": "markdown",
      "metadata": {
        "id": "IGmGG6AjMRl8"
      },
      "source": [
        "Finally we want to see how accurately the model classifies the data by comparing to the assigned label"
      ]
    },
    {
      "cell_type": "code",
      "execution_count": null,
      "metadata": {
        "id": "B5e-9WngMRl8"
      },
      "outputs": [],
      "source": [
        "def accuracy(weights, data):\n",
        "    \"\"\"Compute the accuracy of the classification for a given set of weights and validation data\"\"\"\n",
        "    errors = 0\n",
        "    for x, y in zip(data[0], data[1]):\n",
        "        expec = qnn_circuit(weights, x)\n",
        "        errors += abs(y - round(expec))\n",
        "    acc = 1 - errors/len(data[0])\n",
        "    return acc\n",
        "\n",
        "def train_validate(train_data, weights, validate_data, num_epochs=150):\n",
        "    for i, (weights, loss) in enumerate(train(weights, train_data, num_epochs)):\n",
        "        acc = accuracy(weights, validate_data)\n",
        "        print(f\"Epoch {i+1}: Loss: {loss:5.3f} Accuracy: {acc*100}%\")\n",
        "    return"
      ]
    },
    {
      "cell_type": "markdown",
      "metadata": {
        "id": "kksa0UVnMRl8"
      },
      "source": [
        "Try training the model you've created, you can also try adapting your `qnn_circuit` by trying different trainable gates, or adding multiple trainable gates after each feature encoding. Try increasing the number of layers and see how the accuracy improves."
      ]
    },
    {
      "cell_type": "code",
      "execution_count": null,
      "metadata": {
        "id": "LvBBZif8MRl8"
      },
      "outputs": [],
      "source": [
        "# Fetch a random sample of the HTRU2 data\n",
        "train_X, validate_X, train_Y, validate_Y = fetch_data_random_seed(100, 0)\n",
        "\n",
        "# Train and validate the model using the data sampled\n",
        "train_validate((train_X, train_Y), init_weights(), (validate_X, validate_Y))"
      ]
    }
  ],
  "metadata": {
    "colab": {
      "collapsed_sections": [],
      "provenance": []
    },
    "kernelspec": {
      "display_name": "Python 3 (ipykernel)",
      "language": "python",
      "name": "python3"
    },
    "language_info": {
      "codemirror_mode": {
        "name": "ipython",
        "version": 3
      },
      "file_extension": ".py",
      "mimetype": "text/x-python",
      "name": "python",
      "nbconvert_exporter": "python",
      "pygments_lexer": "ipython3",
      "version": "3.9.5"
    }
  },
  "nbformat": 4,
  "nbformat_minor": 0
}
